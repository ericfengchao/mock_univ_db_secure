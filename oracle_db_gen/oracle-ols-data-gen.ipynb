{
 "cells": [
  {
   "cell_type": "code",
   "execution_count": 59,
   "metadata": {},
   "outputs": [],
   "source": [
    "from faker import Faker\n",
    "import re\n",
    "import random\n",
    "\n",
    "fake = Faker()\n",
    "\n",
    "def take_initial(s):\n",
    "    initials = [i[0] for i in s.split()]\n",
    "    while len(initials) < 2:\n",
    "        initials.append(fake.random_uppercase_letter())\n",
    "    return ''.join(initials).upper()\n",
    "\n",
    "def wrap_single_quote(s):\n",
    "    return \"'\" + s + \"'\"\n",
    "\n",
    "# compartment\n",
    "FN = 'FN'\n",
    "AD = 'AD'\n",
    "OP = 'OP'\n",
    "\n",
    "# security level\n",
    "SL_P = 'P'\n",
    "SL_C = 'C'\n",
    "SL_S = 'S'\n",
    "SL_HS = 'HS'\n",
    "\n",
    "# group \n",
    "UNIV = 'UNIV'\n",
    "\n",
    "# ols column name\n",
    "ols = 'ols_pol_col'\n",
    "\n",
    "def get_school_group(school_id):\n",
    "    return 's_{}'.format(school_id)\n",
    "\n",
    "def get_course_schedule_group(school_id, cs_id):\n",
    "    return 's_{}_{}'.format(school_id, cs_id)\n",
    "\n",
    "def get_security_label(security_level, compartments, groups):\n",
    "    g = ','.join(groups)\n",
    "    c = ','.join(compartments)\n",
    "    return \"CHAR_TO_LABEL('ols_pol','{}:{}:{}')\".format(security_level, c, g)"
   ]
  },
  {
   "cell_type": "code",
   "execution_count": 60,
   "metadata": {},
   "outputs": [],
   "source": [
    "school_num = 2\n",
    "school_security_level = SL_P\n",
    "school_id = [i+1 for i in range(school_num)]\n",
    "school_name = ['School of ' + fake.job().split()[0] + ''.join(fake.random_letters(length=3)) for i in range(school_num)]\n",
    "school_email = [ take_initial(school_name[i]) + str(i) + '@nus.edu.sg' for i in range(school_num)]\n",
    "school_address = [school_name[i] + ', ' + fake.address().replace('\\n', '') for i in range(school_num)]\n",
    "school_postal = [fake.postalcode() for i in range(school_num)]\n",
    "school_tel = [fake.phone_number() for i in range(school_num)]\n",
    "school_label = ['SOC', 'BIZ']\n",
    "\n",
    "school_insert_sql = 'INSERT ALL\\n'+ '\\n'.join(\n",
    "    ['INTO school (id, name, email, address, postal, tel)\\\n",
    "    VALUES ({},{},{},{},{},{})'.format(\n",
    "    school_id[i],\n",
    "    wrap_single_quote(school_name[i]),\n",
    "    wrap_single_quote(school_email[i]),\n",
    "    wrap_single_quote(school_address[i]),\n",
    "    wrap_single_quote(school_postal[i]),\n",
    "    wrap_single_quote(school_tel[i])) for i in range(school_num)]) + '\\n SELECT * FROM dual;\\n\\n'\n",
    "\n",
    "# print(school_insert_sql)"
   ]
  },
  {
   "cell_type": "code",
   "execution_count": 61,
   "metadata": {},
   "outputs": [],
   "source": [
    "academic_num = 4\n",
    "asy_slevel = SL_P\n",
    "asy_id = [i+1 for i in range(academic_num)]\n",
    "academic_start_year = [str(2017-academic_num//2+i) for i in range(academic_num)]\n",
    "academic_end_year = [str(2018-academic_num//2+i) for i in range(academic_num)]\n",
    "asy_sl = [get_security_label(asy_slevel, [],[]) for i in asy_id]\n",
    "\n",
    "academic_insert_sql = 'INSERT ALL\\n' + '\\n'.join(\n",
    "    [\"INTO academic_year (id, start_year, end_year)\\\n",
    "    VALUES ({},{},{})\".format(\n",
    "    asy_id[i],\n",
    "    wrap_single_quote(academic_start_year[i]),\n",
    "    wrap_single_quote(academic_end_year[i])) for i in range(academic_num)]) + '\\n SELECT * FROM dual;\\n\\n'\n",
    "\n",
    "# print(academic_insert_sql)"
   ]
  },
  {
   "cell_type": "code",
   "execution_count": 62,
   "metadata": {},
   "outputs": [],
   "source": [
    "semster_num = academic_num * 2\n",
    "semster_start_end_dates = [('-08-01 00:00:00 +08:00','-12-31 00:00:00 +08:00'), ('-01-01 00:00:00 +08:00','-05-31 00:00:00 +08:00')]\n",
    "sem_id = [i+1 for  i in range(semster_num)]\n",
    "sem_slevel = SL_P\n",
    "semster = [i%2+1 for i in range(semster_num)]\n",
    "semster_start_time = [str(2017-semster_num//4+(i+1)//2)+semster_start_end_dates[i%2][0] for i in range(semster_num)]\n",
    "semster_end_time = [str(2017-semster_num//4+(i+1)//2)+semster_start_end_dates[i%2][1] for i in range(semster_num)]\n",
    "sem_sl = [get_security_label(sem_slevel, [],[]) for i in range(semster_num)]\n",
    "semster_insert_sql = 'INSERT ALL\\n' + '\\n'.join(\n",
    "    ['INTO semester (id, semester, start_date, end_date, academic_year_id)\\\n",
    "    VALUES({}, {}, TIMESTAMP {},TIMESTAMP {}, {})'.format(\n",
    "    sem_id[i],\n",
    "    str(semster[i]),\n",
    "    wrap_single_quote(semster_start_time[i]),\n",
    "    wrap_single_quote(semster_end_time[i]),\n",
    "    str(i//2+1)) for i in range(semster_num)]) + '\\n SELECT * FROM dual;\\n\\n'\n",
    "\n",
    "# print(semster_insert_sql)"
   ]
  },
  {
   "cell_type": "code",
   "execution_count": 63,
   "metadata": {},
   "outputs": [],
   "source": [
    "admin_officer_num = 2 * school_num\n",
    "\n",
    "admin_officer_id = [ fake.uuid4() for i in range(admin_officer_num)]\n",
    "admin_officer_name = [ fake.name() for i in range(admin_officer_num)]\n",
    "admin_officer_office_email = [ admin_officer_name[i].replace(\" \", \".\") + str(i) + '@nus.edu.sg' for i in range(admin_officer_num)]\n",
    "admin_officer_office_address = [ fake.address().replace('\\n', '') for i in range(admin_officer_num)]\n",
    "admin_officer_office_postal = [ fake.postalcode() for i in range(admin_officer_num)]\n",
    "admin_officer_office_tel = [ fake.phone_number() for i in range(admin_officer_num)]\n",
    "admin_officer_school_id = [ i%school_num+1 for i in range(admin_officer_num)]\n",
    "\n",
    "admin_officer_insert_sql = 'INSERT ALL\\n' + '\\n'.join(['INTO admin_officer (id, first_name, last_name, gender, email, office_address, office_postal, office_tel, school_id) VALUES({},{},{},{},{},{},{},{},{})'.format(\n",
    "    wrap_single_quote(admin_officer_id[i]),\n",
    "    wrap_single_quote(admin_officer_name[i].split(' ')[0]),\n",
    "    wrap_single_quote(admin_officer_name[i].split(' ')[1]),\n",
    "    wrap_single_quote(random.choice(['F', 'M'])),\n",
    "    wrap_single_quote(admin_officer_office_email[i]),\n",
    "    wrap_single_quote(admin_officer_office_address[i]),\n",
    "    wrap_single_quote(admin_officer_office_postal[i]),\n",
    "    wrap_single_quote(admin_officer_office_tel[i]),\n",
    "    str(admin_officer_school_id[i])) for i in range(admin_officer_num)]) + '\\n SELECT * FROM dual;\\n\\n'"
   ]
  },
  {
   "cell_type": "code",
   "execution_count": 64,
   "metadata": {},
   "outputs": [],
   "source": [
    "professor_num = 2 * school_num\n",
    "professor_id = [ fake.uuid4() for i in range(professor_num)]\n",
    "professor_name = [ fake.name() for i in range(professor_num)]\n",
    "professor_office_email = [ professor_name[i].replace(\" \", \".\") + str(i) + '@nus.edu.sg' for i in range(professor_num)]\n",
    "professor_office_address = [ fake.address().replace('\\n', '') for i in range(professor_num)]\n",
    "professor_office_postal = [ fake.postalcode() for i in range(professor_num)]\n",
    "professor_office_tel = [ fake.phone_number() for i in range(professor_num)]\n",
    "professor_school_id = [ i%school_num+1 for i in range(professor_num)]\n",
    "\n",
    "professor_insert_sql = 'INSERT ALL\\n' + '\\n'.join(['INTO professor (id, first_name, last_name, gender, email, office_address, office_postal, office_tel, school_id) VALUES({},{},{},{},{},{},{},{},{})'.format(\n",
    "    wrap_single_quote(professor_id[i]),\n",
    "    wrap_single_quote(professor_name[i].split(' ')[0]),\n",
    "    wrap_single_quote(professor_name[i].split(' ')[1]),\n",
    "    wrap_single_quote(random.choice(['F', 'M'])),\n",
    "    wrap_single_quote(professor_office_email[i]),\n",
    "    wrap_single_quote(professor_office_address[i]),\n",
    "    wrap_single_quote(professor_office_postal[i]),\n",
    "    wrap_single_quote(professor_office_tel[i]),\n",
    "    str(professor_school_id[i])) for i in range(professor_num)]) + '\\n SELECT * FROM dual;\\n\\n'"
   ]
  },
  {
   "cell_type": "code",
   "execution_count": 65,
   "metadata": {},
   "outputs": [],
   "source": [
    "student_num = 2 * school_num\n",
    "stu_slevel = SL_C\n",
    "student_id = [ fake.uuid4() for i in range(student_num)]\n",
    "student_name = [ fake.name() for i in range(student_num)]\n",
    "student_email = [ student_name[i].replace(\" \", \".\") + str(i) + '@nus.edu.sg' for i in range(student_num)]\n",
    "student_address = [ fake.address().replace('\\n', '') for i in range(student_num)]\n",
    "student_postal = [ fake.postalcode() for i in range(student_num)]\n",
    "student_tel = [ fake.phone_number() for i in range(student_num)]\n",
    "stu_sch_id = [ i%school_num+1 for i in range(student_num)]"
   ]
  },
  {
   "cell_type": "code",
   "execution_count": 66,
   "metadata": {},
   "outputs": [],
   "source": [
    "loan_num = student_num // 2\n",
    "loan_slevel = SL_S\n",
    "loan_id = [i+1 for i in range(loan_num)]\n",
    "loan_amount = [ random.randint(10000,50000) for i in range(loan_num)]\n",
    "loan_start_date = [ fake.past_date().replace().strftime(\"%Y-%m-%d %H:%M:%S\") + ' +08:00' for i in range(loan_num)]\n",
    "loan_due_date = [ fake.future_date(end_date='+365d').strftime(\"%Y-%m-%d %H:%M:%S\") + ' +08:00' for i in range(loan_num)]\n",
    "loan_amount_paid = [ \"{0:.2f}\".format(random.random() * loan_amount[i]) for i in range(loan_num)]\n",
    "loan_student_id = [ student_id[i*2] for i in range(loan_num)]\n",
    "loan_sl = [get_security_label(loan_slevel, [FN], [school_label[i%2]]) for i in range(loan_num)]\n",
    "\n",
    "loan_insert_sql = 'INSERT ALL\\n' + '\\n'.join(\n",
    "    ['INTO loan (id, amount, start_date, due_date, paid_amount, student_id, {})\\\n",
    "    VALUES({},{},TIMESTAMP {},TIMESTAMP {},{},{},{})'.format(\n",
    "    ols,\n",
    "    loan_id[i],\n",
    "    str(loan_amount[i]),\n",
    "    wrap_single_quote(loan_start_date[i]),\n",
    "    wrap_single_quote(loan_due_date[i]),\n",
    "    str(loan_amount_paid[i]),\n",
    "    wrap_single_quote(loan_student_id[i]),\n",
    "    loan_sl[i]) for i in range(loan_num)]) + '\\n SELECT * FROM dual;\\n\\n'\n",
    "\n",
    "# print(loan_insert_sql)"
   ]
  },
  {
   "cell_type": "code",
   "execution_count": 67,
   "metadata": {},
   "outputs": [
    {
     "name": "stdout",
     "output_type": "stream",
     "text": [
      "INSERT ALL\n",
      "INTO course (id, idx, name, description, school_id) VALUES(1,7711,'Nature conservation officer','However sport spend month late particular why.',1)\n",
      "INTO course (id, idx, name, description, school_id) VALUES(2,9797,'Hotel manager','Owner action no.',2)\n",
      " SELECT * FROM dual;\n",
      "\n",
      "\n"
     ]
    }
   ],
   "source": [
    "course_id = ['CS5228', 'BT4211']\n",
    "course_num = len(course_id)\n",
    "course_index = [ fake.random_number(digits=4) for i in range(course_num)]\n",
    "course_name = [ fake.job()[:50] for i in range(course_num)]\n",
    "course_description = [ fake.sentence() for i in range(course_num)]\n",
    "course_school_id = [1,2]\n",
    "course_label = course_id[:]\n",
    "course_insert_sql = 'INSERT ALL\\n' + '\\n'.join(['INTO course (id, idx, name, description, school_id) VALUES({},{},{},{},{})'.format(\n",
    "    i+1,\n",
    "    str(course_index[i]),\n",
    "    wrap_single_quote(course_name[i]),\n",
    "    wrap_single_quote(course_description[i]),\n",
    "    str(course_school_id[i])) for i in range(course_num)]) + '\\n SELECT * FROM dual;\\n\\n'\n",
    "\n",
    "print(course_insert_sql)"
   ]
  },
  {
   "cell_type": "code",
   "execution_count": 68,
   "metadata": {},
   "outputs": [
    {
     "name": "stdout",
     "output_type": "stream",
     "text": [
      "INSERT ALL\n",
      "INTO course (id, idx, name, description, school_id) VALUES(1,7711,'Nature conservation officer','However sport spend month late particular why.',1)\n",
      "INTO course (id, idx, name, description, school_id) VALUES(2,9797,'Hotel manager','Owner action no.',2)\n",
      " SELECT * FROM dual;\n",
      "\n",
      "\n"
     ]
    }
   ],
   "source": [
    "course_schedule_num = course_num\n",
    "cs_id = [i+1 for i in range(course_schedule_num)]\n",
    "course_schedule_course_id = [ i%course_num+1 for i in range(course_schedule_num)] \n",
    "course_schedule_semster_id = [ i%semster_num+1 for i in range(course_schedule_num)]\n",
    "course_schedule_professor_id = [ professor_id[i%professor_num] for i in range(course_schedule_num)]\n",
    "\n",
    "course_schedule_insert_sql = 'INSERT ALL\\n' + '\\n'.join(['INTO course_schedule (id, course_id, semester_id, professor_id) VALUES({},{},{},{})'.format(\n",
    "    i+1,\n",
    "    str(course_schedule_course_id[i]),\n",
    "    str(course_schedule_semster_id[i]),\n",
    "    wrap_single_quote(course_schedule_professor_id[i])) for i in range(course_schedule_num)]) + '\\n SELECT * FROM dual;\\n\\n'\n",
    "\n",
    "print(course_insert_sql)"
   ]
  },
  {
   "cell_type": "code",
   "execution_count": 69,
   "metadata": {},
   "outputs": [
    {
     "name": "stdout",
     "output_type": "stream",
     "text": [
      "INSERT ALL\n",
      "INTO course_enrollment(id, student_id,course_schedule_id,ols_pol_col)    VALUES(1,'68abf025-9639-1a19-917b-3b04139be79e',1,CHAR_TO_LABEL('ols_pol','C:OP:CS5228'))\n",
      "INTO course_enrollment(id, student_id,course_schedule_id,ols_pol_col)    VALUES(2,'0bf30fe0-4474-563f-7622-b7d0a8d2389f',1,CHAR_TO_LABEL('ols_pol','C:OP:CS5228'))\n",
      "INTO course_enrollment(id, student_id,course_schedule_id,ols_pol_col)    VALUES(3,'aa92e04a-b38b-c6c8-e614-7fd9b23b749a',1,CHAR_TO_LABEL('ols_pol','C:OP:BT4211'))\n",
      "INTO course_enrollment(id, student_id,course_schedule_id,ols_pol_col)    VALUES(4,'cb832cc4-32c5-469a-46ea-625b4adbb0ba',2,CHAR_TO_LABEL('ols_pol','C:OP:BT4211'))\n",
      " SELECT * FROM dual;\n",
      "\n",
      "\n"
     ]
    }
   ],
   "source": [
    "course_enrollment_num = student_num\n",
    "ce_slevel = SL_C\n",
    "ce_id = [i+1 for i in range(course_enrollment_num)]\n",
    "ce_stu_id = [ student_id[i] for i in range(course_enrollment_num)]\n",
    "ce_cs_id = [ cs_id[i//3] for i in range(course_enrollment_num)]\n",
    "ce_sl = [get_security_label(ce_slevel, [OP], [course_label[i//2]]) for i in range(course_enrollment_num)]\n",
    "\n",
    "course_enrollment_insert_sql = 'INSERT ALL\\n' + '\\n'.join(\n",
    "    ['INTO course_enrollment(id, student_id,course_schedule_id,{})\\\n",
    "    VALUES({},{},{},{})'.format(\n",
    "    ols,\n",
    "    str(ce_id[i]),\n",
    "    wrap_single_quote(ce_stu_id[i]),\n",
    "    str(ce_cs_id[i]),\n",
    "    ce_sl[i]) for i in range(course_enrollment_num)]) + '\\n SELECT * FROM dual;\\n\\n'\n",
    "\n",
    "print(course_enrollment_insert_sql)"
   ]
  },
  {
   "cell_type": "code",
   "execution_count": 70,
   "metadata": {},
   "outputs": [
    {
     "name": "stdout",
     "output_type": "stream",
     "text": [
      "INSERT ALL\n",
      "INTO student (id, first_name, last_name, gender, matric_no, email, address, postal, tel, school_id, ols_pol_col)     VALUES('68abf025-9639-1a19-917b-3b04139be79e','Andrew','Adams','M','AW68abf025-9639-1a19','Andrew.Adams0@nus.edu.sg','076 Wilson ShoresCodyborough, GA 71719','25756','1-902-760-7970x972',1,CHAR_TO_LABEL('ols_pol','C::CS5228'))\n",
      "INTO student (id, first_name, last_name, gender, matric_no, email, address, postal, tel, school_id, ols_pol_col)     VALUES('0bf30fe0-4474-563f-7622-b7d0a8d2389f','Philip','Atkins','F','AW0bf30fe0-4474-563f','Philip.Atkins1@nus.edu.sg','848 Lambert CentersNorth Angelamouth, IL 83612','99899','1-712-995-2716',2,CHAR_TO_LABEL('ols_pol','C::CS5228'))\n",
      "INTO student (id, first_name, last_name, gender, matric_no, email, address, postal, tel, school_id, ols_pol_col)     VALUES('aa92e04a-b38b-c6c8-e614-7fd9b23b749a','Mrs.','Lorraine','F','AWaa92e04a-b38b-c6c8','Mrs..Lorraine.Avery2@nus.edu.sg','USNV MunozFPO AA 41592','38546','973.696.1667',1,CHAR_TO_LABEL('ols_pol','C::CS5228'))\n",
      "INTO student (id, first_name, last_name, gender, matric_no, email, address, postal, tel, school_id, ols_pol_col)     VALUES('cb832cc4-32c5-469a-46ea-625b4adbb0ba','Michelle','Rogers','F','AWcb832cc4-32c5-469a','Michelle.Rogers3@nus.edu.sg','3684 Allen Divide Suite 547North Williammouth, CA 27366','76804','677.423.2806',2,CHAR_TO_LABEL('ols_pol','C::BT4211'))\n",
      " SELECT * FROM dual;\n",
      "\n",
      "\n"
     ]
    }
   ],
   "source": [
    "stu_group_label = [get_security_label(stu_slevel, [], [course_label[i//3]]) for i in range(student_num)]\n",
    "\n",
    "student_insert_sql = 'INSERT ALL\\n' + '\\n'.join(\n",
    "    ['INTO student (id, first_name, last_name, gender, matric_no, email, address, postal, tel, school_id, {}) \\\n",
    "    VALUES({},{},{},{},{},{},{},{},{},{},{})'.format(\n",
    "    ols,\n",
    "    wrap_single_quote(student_id[i]),\n",
    "    wrap_single_quote(student_name[i].split(' ')[0]),\n",
    "    wrap_single_quote(student_name[i].split(' ')[1]),\n",
    "    wrap_single_quote(random.choice(['F', 'M'])),\n",
    "    wrap_single_quote('AW' + student_id[i][:18]),\n",
    "    wrap_single_quote(student_email[i]),\n",
    "    wrap_single_quote(student_address[i]),\n",
    "    wrap_single_quote(student_postal[i]),\n",
    "    wrap_single_quote(student_tel[i]),\n",
    "    str(stu_sch_id[i]), \n",
    "    stu_group_label[i]) for i in range(student_num)]) + '\\n SELECT * FROM dual;\\n\\n'\n",
    "\n",
    "print(student_insert_sql)"
   ]
  },
  {
   "cell_type": "code",
   "execution_count": 71,
   "metadata": {},
   "outputs": [],
   "source": [
    "grade_num = course_enrollment_num\n",
    "grade_slevel = SL_C\n",
    "grade_ce_id = ce_id[:]\n",
    "grades = [fake.random_number(digits=2) for i in range(grade_num)]\n",
    "grades_sl = [get_security_label(ce_slevel, [AD], [course_label[i//2]]) for i in range(grade_num)]\n",
    "\n",
    "grade_insert_sql = 'INSERT ALL\\n' + '\\n'.join(\n",
    "    ['INTO grade(course_enrollment_id, grade, {})\\\n",
    "    VALUES({},{},{})'.format(\n",
    "    ols,\n",
    "    str(grade_ce_id[i]),\n",
    "    str(grades[i]),\n",
    "    grades_sl[i]) for i in range(course_enrollment_num)]) + '\\n SELECT * FROM dual;\\n\\n'"
   ]
  },
  {
   "cell_type": "code",
   "execution_count": 72,
   "metadata": {},
   "outputs": [
    {
     "name": "stdout",
     "output_type": "stream",
     "text": [
      "INSERT ALL\n",
      "INTO grade(course_enrollment_id, grade, ols_pol_col)    VALUES(1,8,CHAR_TO_LABEL('ols_pol','C:AD:CS5228'))\n",
      "INTO grade(course_enrollment_id, grade, ols_pol_col)    VALUES(2,42,CHAR_TO_LABEL('ols_pol','C:AD:CS5228'))\n",
      "INTO grade(course_enrollment_id, grade, ols_pol_col)    VALUES(3,38,CHAR_TO_LABEL('ols_pol','C:AD:BT4211'))\n",
      "INTO grade(course_enrollment_id, grade, ols_pol_col)    VALUES(4,35,CHAR_TO_LABEL('ols_pol','C:AD:BT4211'))\n",
      " SELECT * FROM dual;\n",
      "\n",
      "\n"
     ]
    }
   ],
   "source": [
    "print(grade_insert_sql)"
   ]
  },
  {
   "cell_type": "code",
   "execution_count": 73,
   "metadata": {},
   "outputs": [
    {
     "name": "stdout",
     "output_type": "stream",
     "text": [
      "INSERT ALL\n",
      "INTO school_fee(student_id, semester_id, school_fee, school_fee_paid, ols_pol_col)    VALUES('68abf025-9639-1a19-917b-3b04139be79e',1,51915,51566.96,CHAR_TO_LABEL('ols_pol','S:FN:SOC'))\n",
      "INTO school_fee(student_id, semester_id, school_fee, school_fee_paid, ols_pol_col)    VALUES('0bf30fe0-4474-563f-7622-b7d0a8d2389f',2,40924,34300.73,CHAR_TO_LABEL('ols_pol','S:FN:SOC'))\n",
      "INTO school_fee(student_id, semester_id, school_fee, school_fee_paid, ols_pol_col)    VALUES('aa92e04a-b38b-c6c8-e614-7fd9b23b749a',3,72663,22598.19,CHAR_TO_LABEL('ols_pol','S:FN:BIZ'))\n",
      "INTO school_fee(student_id, semester_id, school_fee, school_fee_paid, ols_pol_col)    VALUES('cb832cc4-32c5-469a-46ea-625b4adbb0ba',4,9615,9411.87,CHAR_TO_LABEL('ols_pol','S:FN:BIZ'))\n",
      " SELECT * FROM dual;\n",
      "\n",
      "\n"
     ]
    }
   ],
   "source": [
    "school_fee_num = student_num\n",
    "sf_slevel = SL_S\n",
    "school_fee_student_id = [ student_id[i] for i in range(school_fee_num)]\n",
    "school_fee_semster_id = [ i%semster_num+1 for i in range(school_fee_num)]\n",
    "school_fee_school_fee = [ fake.random_number(digits=5) for i in range(school_fee_num)]\n",
    "school_fee_school_fee_paid = [ \"{0:.2f}\".format(random.random()*school_fee_school_fee[i]) for i in range(school_fee_num)]\n",
    "sf_sl = [get_security_label(sf_slevel, [FN], [school_label[i//2]]) for i in range(school_fee_num)]\n",
    "\n",
    "school_fee_insert_sql = 'INSERT ALL\\n' + '\\n'.join(\n",
    "    ['INTO school_fee(student_id, semester_id, school_fee, school_fee_paid, {})\\\n",
    "    VALUES({},{},{},{},{})'.format(\n",
    "    ols,\n",
    "    wrap_single_quote(school_fee_student_id[i]),\n",
    "    str(school_fee_semster_id[i]),\n",
    "    str(school_fee_school_fee[i]),\n",
    "    str(school_fee_school_fee_paid[i]),\n",
    "    sf_sl[i]) for i in range(school_fee_num)]) + '\\n SELECT * FROM dual;\\n\\n'\n",
    "\n",
    "print(school_fee_insert_sql)"
   ]
  },
  {
   "cell_type": "code",
   "execution_count": 74,
   "metadata": {},
   "outputs": [
    {
     "name": "stdout",
     "output_type": "stream",
     "text": [
      "INSERT ALL\n",
      "INTO staff_salary(staff_id, salary, ols_pol_col)    VALUES('a456c770-e067-b7db-3b40-7788112c8ab4',96996,CHAR_TO_LABEL('ols_pol','HS:FN:'))\n",
      "INTO staff_salary(staff_id, salary, ols_pol_col)    VALUES('2b033463-3041-6f74-3a2c-28308f35b7a4',19033,CHAR_TO_LABEL('ols_pol','HS:FN:'))\n",
      "INTO staff_salary(staff_id, salary, ols_pol_col)    VALUES('aaadfe54-df73-799a-4d0e-469c8ff950b2',34093,CHAR_TO_LABEL('ols_pol','HS:FN:'))\n",
      "INTO staff_salary(staff_id, salary, ols_pol_col)    VALUES('d929fffd-cdc3-834d-f083-d89a60723793',17010,CHAR_TO_LABEL('ols_pol','HS:FN:'))\n",
      "INTO staff_salary(staff_id, salary, ols_pol_col)    VALUES('4a336a0f-5eca-1de9-63ae-31d861a5b333',96723,CHAR_TO_LABEL('ols_pol','HS:FN:'))\n",
      "INTO staff_salary(staff_id, salary, ols_pol_col)    VALUES('693749e8-5c17-97f5-e2f5-b374a2627257',1400,CHAR_TO_LABEL('ols_pol','HS:FN:'))\n",
      "INTO staff_salary(staff_id, salary, ols_pol_col)    VALUES('44a3e442-0e9b-e362-7fed-5fd1d3d2d496',59174,CHAR_TO_LABEL('ols_pol','HS:FN:'))\n",
      "INTO staff_salary(staff_id, salary, ols_pol_col)    VALUES('03ab5b28-5a7a-e92a-edfb-50f4864061b9',85935,CHAR_TO_LABEL('ols_pol','HS:FN:'))\n",
      " SELECT * FROM dual;\n",
      "\n",
      "\n"
     ]
    }
   ],
   "source": [
    "staff_num = professor_num + admin_officer_num\n",
    "staff_slevel = SL_HS\n",
    "staff_id = professor_id + admin_officer_id\n",
    "salary = [fake.random_number(digits=5) for i in range(staff_num)]\n",
    "staff_sl = [get_security_label(staff_slevel,[], []) for i in range(staff_num)]\n",
    "staff_insert_sql = 'INSERT ALL\\n' + '\\n'.join(\n",
    "    ['INTO staff_salary(staff_id, salary, {})\\\n",
    "    VALUES({},{},{})'.format(\n",
    "    ols,\n",
    "    wrap_single_quote(staff_id[i]),\n",
    "    str(salary[i]),\n",
    "    staff_sl[i]) for i in range(staff_num)]) + '\\n SELECT * FROM dual;\\n\\n'\n",
    "print(staff_insert_sql)"
   ]
  },
  {
   "cell_type": "code",
   "execution_count": 75,
   "metadata": {},
   "outputs": [],
   "source": [
    "with open('insert_data.sql', 'w') as f:\n",
    "    f.write(school_insert_sql)"
   ]
  },
  {
   "cell_type": "code",
   "execution_count": 76,
   "metadata": {},
   "outputs": [],
   "source": [
    "with open('insert_data.sql', 'a') as f:\n",
    "    f.write(academic_insert_sql)"
   ]
  },
  {
   "cell_type": "code",
   "execution_count": 77,
   "metadata": {},
   "outputs": [],
   "source": [
    "with open('insert_data.sql', 'a') as f:\n",
    "    f.write(semster_insert_sql)"
   ]
  },
  {
   "cell_type": "code",
   "execution_count": 78,
   "metadata": {},
   "outputs": [],
   "source": [
    "with open('insert_data.sql', 'a') as f:\n",
    "    f.write(admin_officer_insert_sql)"
   ]
  },
  {
   "cell_type": "code",
   "execution_count": 79,
   "metadata": {},
   "outputs": [],
   "source": [
    "with open('insert_data.sql', 'a') as f:\n",
    "    f.write(professor_insert_sql)"
   ]
  },
  {
   "cell_type": "code",
   "execution_count": 80,
   "metadata": {},
   "outputs": [],
   "source": [
    "with open('insert_data.sql', 'a') as f:\n",
    "    f.write(course_insert_sql)"
   ]
  },
  {
   "cell_type": "code",
   "execution_count": 81,
   "metadata": {},
   "outputs": [],
   "source": [
    "with open('insert_data.sql', 'a') as f:\n",
    "    f.write(course_schedule_insert_sql)"
   ]
  },
  {
   "cell_type": "code",
   "execution_count": 82,
   "metadata": {},
   "outputs": [],
   "source": [
    "with open('insert_data.sql', 'a') as f:\n",
    "    f.write(student_insert_sql)"
   ]
  },
  {
   "cell_type": "code",
   "execution_count": 83,
   "metadata": {},
   "outputs": [],
   "source": [
    "with open('insert_data.sql', 'a') as f:\n",
    "    f.write(course_enrollment_insert_sql)"
   ]
  },
  {
   "cell_type": "code",
   "execution_count": 84,
   "metadata": {},
   "outputs": [],
   "source": [
    "with open('insert_data.sql', 'a') as f:\n",
    "    f.write(school_fee_insert_sql)"
   ]
  },
  {
   "cell_type": "code",
   "execution_count": 85,
   "metadata": {},
   "outputs": [],
   "source": [
    "with open('insert_data.sql', 'a') as f:\n",
    "    f.write(loan_insert_sql)"
   ]
  },
  {
   "cell_type": "code",
   "execution_count": 86,
   "metadata": {},
   "outputs": [],
   "source": [
    "with open('insert_data.sql', 'a') as f:\n",
    "    f.write(grade_insert_sql)"
   ]
  },
  {
   "cell_type": "code",
   "execution_count": 87,
   "metadata": {},
   "outputs": [],
   "source": [
    "with open('insert_data.sql', 'a') as f:\n",
    "    f.write(staff_insert_sql)"
   ]
  },
  {
   "cell_type": "code",
   "execution_count": null,
   "metadata": {},
   "outputs": [],
   "source": []
  }
 ],
 "metadata": {
  "kernelspec": {
   "display_name": "Python 3",
   "language": "python",
   "name": "python3"
  },
  "language_info": {
   "codemirror_mode": {
    "name": "ipython",
    "version": 3
   },
   "file_extension": ".py",
   "mimetype": "text/x-python",
   "name": "python",
   "nbconvert_exporter": "python",
   "pygments_lexer": "ipython3",
   "version": "3.7.0"
  }
 },
 "nbformat": 4,
 "nbformat_minor": 2
}
