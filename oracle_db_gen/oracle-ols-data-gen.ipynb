{
 "cells": [
  {
   "cell_type": "code",
   "execution_count": 32,
   "metadata": {},
   "outputs": [],
   "source": [
    "from faker import Faker\n",
    "import re\n",
    "import random\n",
    "\n",
    "fake = Faker()\n",
    "\n",
    "def take_initial(s):\n",
    "    initials = [i[0] for i in s.split()]\n",
    "    while len(initials) < 2:\n",
    "        initials.append(fake.random_uppercase_letter())\n",
    "    return ''.join(initials).upper()\n",
    "\n",
    "def wrap_single_quote(s):\n",
    "    return \"'\" + s + \"'\"\n",
    "\n",
    "# compartment\n",
    "FN = 'FN'\n",
    "AD = 'AD'\n",
    "OP = 'OP'\n",
    "\n",
    "# security level\n",
    "SL_P = 'P'\n",
    "SL_C = 'C'\n",
    "SL_S = 'S'\n",
    "SL_HS = 'HS'\n",
    "\n",
    "# group \n",
    "UNIV = 'UNIV'\n",
    "\n",
    "# ols column name\n",
    "ols = 'ols_pol_col'\n",
    "\n",
    "def get_school_group(school_id):\n",
    "    return 's_{}'.format(school_id)\n",
    "\n",
    "def get_course_schedule_group(school_id, cs_id):\n",
    "    return 's_{}_{}'.format(school_id, cs_id)\n",
    "\n",
    "def get_security_label(security_level, compartments, groups):\n",
    "    g = ','.join(groups)\n",
    "    c = ','.join(compartments)\n",
    "    return \"CHAR_TO_LABEL('ols_pol','{}:{}:{}')\".format(security_level, c, g)"
   ]
  },
  {
   "cell_type": "code",
   "execution_count": 33,
   "metadata": {},
   "outputs": [],
   "source": [
    "school_num = 2\n",
    "school_security_level = SL_P\n",
    "school_id = [i+1 for i in range(school_num)]\n",
    "school_name = ['School of ' + fake.job().split()[0] + ''.join(fake.random_letters(length=3)) for i in range(school_num)]\n",
    "school_email = [ take_initial(school_name[i]) + str(i) + '@nus.edu.sg' for i in range(school_num)]\n",
    "school_address = [school_name[i] + ', ' + fake.address().replace('\\n', '') for i in range(school_num)]\n",
    "school_postal = [fake.postalcode() for i in range(school_num)]\n",
    "school_tel = [fake.phone_number() for i in range(school_num)]\n",
    "school_label = ['SOC', 'BIZ']\n",
    "\n",
    "school_insert_sql = 'INSERT ALL\\n'+ '\\n'.join(\n",
    "    ['INTO school (id, name, email, address, postal, tel)\\\n",
    "    VALUES ({},{},{},{},{},{})'.format(\n",
    "    school_id[i],\n",
    "    wrap_single_quote(school_name[i]),\n",
    "    wrap_single_quote(school_email[i]),\n",
    "    wrap_single_quote(school_address[i]),\n",
    "    wrap_single_quote(school_postal[i]),\n",
    "    wrap_single_quote(school_tel[i])) for i in range(school_num)]) + '\\n SELECT * FROM dual;\\n\\n'\n",
    "\n",
    "# print(school_insert_sql)"
   ]
  },
  {
   "cell_type": "code",
   "execution_count": 34,
   "metadata": {},
   "outputs": [],
   "source": [
    "academic_num = 4\n",
    "asy_slevel = SL_P\n",
    "asy_id = [i+1 for i in range(academic_num)]\n",
    "academic_start_year = [str(2017-academic_num//2+i) for i in range(academic_num)]\n",
    "academic_end_year = [str(2018-academic_num//2+i) for i in range(academic_num)]\n",
    "asy_sl = [get_security_label(asy_slevel, [],[]) for i in asy_id]\n",
    "\n",
    "academic_insert_sql = 'INSERT ALL\\n' + '\\n'.join(\n",
    "    [\"INTO academic_year (id, start_year, end_year)\\\n",
    "    VALUES ({},{},{})\".format(\n",
    "    asy_id[i],\n",
    "    wrap_single_quote(academic_start_year[i]),\n",
    "    wrap_single_quote(academic_end_year[i])) for i in range(academic_num)]) + '\\n SELECT * FROM dual;\\n\\n'\n",
    "\n",
    "# print(academic_insert_sql)"
   ]
  },
  {
   "cell_type": "code",
   "execution_count": 35,
   "metadata": {},
   "outputs": [],
   "source": [
    "semster_num = academic_num * 2\n",
    "semster_start_end_dates = [('-08-01 00:00:00 +08:00','-12-31 00:00:00 +08:00'), ('-01-01 00:00:00 +08:00','-05-31 00:00:00 +08:00')]\n",
    "sem_id = [i+1 for  i in range(semster_num)]\n",
    "sem_slevel = SL_P\n",
    "semster = [i%2+1 for i in range(semster_num)]\n",
    "semster_start_time = [str(2017-semster_num//4+(i+1)//2)+semster_start_end_dates[i%2][0] for i in range(semster_num)]\n",
    "semster_end_time = [str(2017-semster_num//4+(i+1)//2)+semster_start_end_dates[i%2][1] for i in range(semster_num)]\n",
    "sem_sl = [get_security_label(sem_slevel, [],[]) for i in range(semster_num)]\n",
    "semster_insert_sql = 'INSERT ALL\\n' + '\\n'.join(\n",
    "    ['INTO semester (id, semester, start_date, end_date, academic_year_id)\\\n",
    "    VALUES({}, {}, TIMESTAMP {},TIMESTAMP {}, {})'.format(\n",
    "    sem_id[i],\n",
    "    str(semster[i]),\n",
    "    wrap_single_quote(semster_start_time[i]),\n",
    "    wrap_single_quote(semster_end_time[i]),\n",
    "    str(i//2+1)) for i in range(semster_num)]) + '\\n SELECT * FROM dual;\\n\\n'\n",
    "\n",
    "# print(semster_insert_sql)"
   ]
  },
  {
   "cell_type": "code",
   "execution_count": 36,
   "metadata": {},
   "outputs": [],
   "source": [
    "admin_officer_num = 2 * school_num\n",
    "\n",
    "admin_officer_id = [ fake.uuid4() for i in range(admin_officer_num)]\n",
    "admin_officer_name = [ fake.name() for i in range(admin_officer_num)]\n",
    "admin_officer_office_email = [ admin_officer_name[i].replace(\" \", \".\") + str(i) + '@nus.edu.sg' for i in range(admin_officer_num)]\n",
    "admin_officer_office_address = [ fake.address().replace('\\n', '') for i in range(admin_officer_num)]\n",
    "admin_officer_office_postal = [ fake.postalcode() for i in range(admin_officer_num)]\n",
    "admin_officer_office_tel = [ fake.phone_number() for i in range(admin_officer_num)]\n",
    "admin_officer_school_id = [ i%school_num+1 for i in range(admin_officer_num)]\n",
    "\n",
    "admin_officer_insert_sql = 'INSERT ALL\\n' + '\\n'.join(['INTO admin_officer (id, first_name, last_name, gender, email, office_address, office_postal, office_tel, school_id) VALUES({},{},{},{},{},{},{},{},{})'.format(\n",
    "    wrap_single_quote(admin_officer_id[i]),\n",
    "    wrap_single_quote(admin_officer_name[i].split(' ')[0]),\n",
    "    wrap_single_quote(admin_officer_name[i].split(' ')[1]),\n",
    "    wrap_single_quote(random.choice(['F', 'M'])),\n",
    "    wrap_single_quote(admin_officer_office_email[i]),\n",
    "    wrap_single_quote(admin_officer_office_address[i]),\n",
    "    wrap_single_quote(admin_officer_office_postal[i]),\n",
    "    wrap_single_quote(admin_officer_office_tel[i]),\n",
    "    str(admin_officer_school_id[i])) for i in range(admin_officer_num)]) + '\\n SELECT * FROM dual;\\n\\n'"
   ]
  },
  {
   "cell_type": "code",
   "execution_count": 37,
   "metadata": {},
   "outputs": [],
   "source": [
    "professor_num = 2 * school_num\n",
    "professor_id = [ fake.uuid4() for i in range(professor_num)]\n",
    "professor_name = [ fake.name() for i in range(professor_num)]\n",
    "professor_office_email = [ professor_name[i].replace(\" \", \".\") + str(i) + '@nus.edu.sg' for i in range(professor_num)]\n",
    "professor_office_address = [ fake.address().replace('\\n', '') for i in range(professor_num)]\n",
    "professor_office_postal = [ fake.postalcode() for i in range(professor_num)]\n",
    "professor_office_tel = [ fake.phone_number() for i in range(professor_num)]\n",
    "professor_school_id = [ i%school_num+1 for i in range(professor_num)]\n",
    "\n",
    "professor_insert_sql = 'INSERT ALL\\n' + '\\n'.join(['INTO professor (id, first_name, last_name, gender, email, office_address, office_postal, office_tel, school_id) VALUES({},{},{},{},{},{},{},{},{})'.format(\n",
    "    wrap_single_quote(professor_id[i]),\n",
    "    wrap_single_quote(professor_name[i].split(' ')[0]),\n",
    "    wrap_single_quote(professor_name[i].split(' ')[1]),\n",
    "    wrap_single_quote(random.choice(['F', 'M'])),\n",
    "    wrap_single_quote(professor_office_email[i]),\n",
    "    wrap_single_quote(professor_office_address[i]),\n",
    "    wrap_single_quote(professor_office_postal[i]),\n",
    "    wrap_single_quote(professor_office_tel[i]),\n",
    "    str(professor_school_id[i])) for i in range(professor_num)]) + '\\n SELECT * FROM dual;\\n\\n'"
   ]
  },
  {
   "cell_type": "code",
   "execution_count": 38,
   "metadata": {},
   "outputs": [],
   "source": [
    "student_num = 2 * school_num\n",
    "stu_slevel = SL_C\n",
    "student_id = [ fake.uuid4() for i in range(student_num)]\n",
    "student_name = [ fake.name() for i in range(student_num)]\n",
    "student_email = [ student_name[i].replace(\" \", \".\") + str(i) + '@nus.edu.sg' for i in range(student_num)]\n",
    "student_address = [ fake.address().replace('\\n', '') for i in range(student_num)]\n",
    "student_postal = [ fake.postalcode() for i in range(student_num)]\n",
    "student_tel = [ fake.phone_number() for i in range(student_num)]\n",
    "stu_sch_id = [ i%school_num+1 for i in range(student_num)]"
   ]
  },
  {
   "cell_type": "code",
   "execution_count": 39,
   "metadata": {},
   "outputs": [],
   "source": [
    "loan_num = student_num // 2\n",
    "loan_slevel = SL_S\n",
    "loan_id = [i+1 for i in range(loan_num)]\n",
    "loan_amount = [ random.randint(10000,50000) for i in range(loan_num)]\n",
    "loan_start_date = [ fake.past_date().replace().strftime(\"%Y-%m-%d %H:%M:%S\") + ' +08:00' for i in range(loan_num)]\n",
    "loan_due_date = [ fake.future_date(end_date='+365d').strftime(\"%Y-%m-%d %H:%M:%S\") + ' +08:00' for i in range(loan_num)]\n",
    "loan_amount_paid = [ \"{0:.2f}\".format(random.random() * loan_amount[i]) for i in range(loan_num)]\n",
    "loan_student_id = [ student_id[i*2] for i in range(loan_num)]\n",
    "loan_sl = [get_security_label(loan_slevel, [FN], [school_label[i%2]]) for i in range(loan_num)]\n",
    "\n",
    "loan_insert_sql = 'INSERT ALL\\n' + '\\n'.join(\n",
    "    ['INTO loan (id, amount, start_date, due_date, paid_amount, student_id, {})\\\n",
    "    VALUES({},{},TIMESTAMP {},TIMESTAMP {},{},{},{})'.format(\n",
    "    ols,\n",
    "    loan_id[i],\n",
    "    str(loan_amount[i]),\n",
    "    wrap_single_quote(loan_start_date[i]),\n",
    "    wrap_single_quote(loan_due_date[i]),\n",
    "    str(loan_amount_paid[i]),\n",
    "    wrap_single_quote(loan_student_id[i]),\n",
    "    loan_sl[i]) for i in range(loan_num)]) + '\\n SELECT * FROM dual;\\n\\n'\n",
    "\n",
    "# print(loan_insert_sql)"
   ]
  },
  {
   "cell_type": "code",
   "execution_count": 40,
   "metadata": {},
   "outputs": [
    {
     "name": "stdout",
     "output_type": "stream",
     "text": [
      "INSERT ALL\n",
      "INTO course (id, idx, name, description, school_id) VALUES(1,4463,'Operations geologist','If create green design student place part.',1)\n",
      "INTO course (id, idx, name, description, school_id) VALUES(2,7512,'Scientist, research (life sciences)','Himself quite smile old computer.',2)\n",
      " SELECT * FROM dual;\n",
      "\n",
      "\n"
     ]
    }
   ],
   "source": [
    "course_id = ['CS5228', 'BT4211']\n",
    "course_num = len(course_id)\n",
    "course_index = [ fake.random_number(digits=4) for i in range(course_num)]\n",
    "course_name = [ fake.job()[:50] for i in range(course_num)]\n",
    "course_description = [ fake.sentence() for i in range(course_num)]\n",
    "course_school_id = [1,2]\n",
    "course_label = course_id[:]\n",
    "course_insert_sql = 'INSERT ALL\\n' + '\\n'.join(['INTO course (id, idx, name, description, school_id) VALUES({},{},{},{},{})'.format(\n",
    "    i+1,\n",
    "    str(course_index[i]),\n",
    "    wrap_single_quote(course_name[i]),\n",
    "    wrap_single_quote(course_description[i]),\n",
    "    str(course_school_id[i])) for i in range(course_num)]) + '\\n SELECT * FROM dual;\\n\\n'\n",
    "\n",
    "print(course_insert_sql)"
   ]
  },
  {
   "cell_type": "code",
   "execution_count": 41,
   "metadata": {},
   "outputs": [
    {
     "name": "stdout",
     "output_type": "stream",
     "text": [
      "INSERT ALL\n",
      "INTO course (id, idx, name, description, school_id) VALUES(1,4463,'Operations geologist','If create green design student place part.',1)\n",
      "INTO course (id, idx, name, description, school_id) VALUES(2,7512,'Scientist, research (life sciences)','Himself quite smile old computer.',2)\n",
      " SELECT * FROM dual;\n",
      "\n",
      "\n"
     ]
    }
   ],
   "source": [
    "course_schedule_num = course_num\n",
    "cs_id = [i+1 for i in range(course_schedule_num)]\n",
    "course_schedule_course_id = [ i%course_num+1 for i in range(course_schedule_num)] \n",
    "course_schedule_semster_id = [ i%semster_num+1 for i in range(course_schedule_num)]\n",
    "course_schedule_professor_id = [ professor_id[i%professor_num] for i in range(course_schedule_num)]\n",
    "\n",
    "course_schedule_insert_sql = 'INSERT ALL\\n' + '\\n'.join(['INTO course_schedule (id, course_id, semester_id, professor_id) VALUES({},{},{},{})'.format(\n",
    "    i+1,\n",
    "    str(course_schedule_course_id[i]),\n",
    "    str(course_schedule_semster_id[i]),\n",
    "    wrap_single_quote(course_schedule_professor_id[i])) for i in range(course_schedule_num)]) + '\\n SELECT * FROM dual;\\n\\n'\n",
    "\n",
    "print(course_insert_sql)"
   ]
  },
  {
   "cell_type": "code",
   "execution_count": 42,
   "metadata": {},
   "outputs": [
    {
     "name": "stdout",
     "output_type": "stream",
     "text": [
      "INSERT ALL\n",
      "INTO course_enrollment(id, student_id,course_schedule_id,ols_pol_col)    VALUES(1,'208843ec-ae50-8d50-389e-8f88ac7232cd',1,CHAR_TO_LABEL('ols_pol','S:OP:CS5228'))\n",
      "INTO course_enrollment(id, student_id,course_schedule_id,ols_pol_col)    VALUES(2,'08795cf9-ac6d-00f0-9ab1-7d7bb244cdb2',1,CHAR_TO_LABEL('ols_pol','S:OP:CS5228'))\n",
      "INTO course_enrollment(id, student_id,course_schedule_id,ols_pol_col)    VALUES(3,'f262d8a9-59e5-0c53-d2db-311df56527df',1,CHAR_TO_LABEL('ols_pol','S:OP:BT4211'))\n",
      "INTO course_enrollment(id, student_id,course_schedule_id,ols_pol_col)    VALUES(4,'dccf533f-2972-0e80-dd55-8462989c8216',2,CHAR_TO_LABEL('ols_pol','S:OP:BT4211'))\n",
      " SELECT * FROM dual;\n",
      "\n",
      "\n"
     ]
    }
   ],
   "source": [
    "course_enrollment_num = student_num\n",
    "ce_slevel = SL_S\n",
    "ce_id = [i+1 for i in range(course_enrollment_num)]\n",
    "ce_stu_id = [ student_id[i] for i in range(course_enrollment_num)]\n",
    "ce_cs_id = [ cs_id[i//3] for i in range(course_enrollment_num)]\n",
    "ce_sl = [get_security_label(ce_slevel, [OP], [course_label[i//2]]) for i in range(course_enrollment_num)]\n",
    "\n",
    "course_enrollment_insert_sql = 'INSERT ALL\\n' + '\\n'.join(\n",
    "    ['INTO course_enrollment(id, student_id,course_schedule_id,{})\\\n",
    "    VALUES({},{},{},{})'.format(\n",
    "    ols,\n",
    "    str(ce_id[i]),\n",
    "    wrap_single_quote(ce_stu_id[i]),\n",
    "    str(ce_cs_id[i]),\n",
    "    ce_sl[i]) for i in range(course_enrollment_num)]) + '\\n SELECT * FROM dual;\\n\\n'\n",
    "\n",
    "print(course_enrollment_insert_sql)"
   ]
  },
  {
   "cell_type": "code",
   "execution_count": 43,
   "metadata": {},
   "outputs": [
    {
     "name": "stdout",
     "output_type": "stream",
     "text": [
      "INSERT ALL\n",
      "INTO student (id, first_name, last_name, gender, matric_no, email, address, postal, tel, school_id, ols_pol_col)     VALUES('208843ec-ae50-8d50-389e-8f88ac7232cd','Jeffrey','Durham','F','AW208843ec-ae50-8d50','Jeffrey.Durham0@nus.edu.sg','15966 Sheppard Drive Suite 063Johnbury, GA 73407','56559','335-472-9235x903',1,CHAR_TO_LABEL('ols_pol','C::CS5228'))\n",
      "INTO student (id, first_name, last_name, gender, matric_no, email, address, postal, tel, school_id, ols_pol_col)     VALUES('08795cf9-ac6d-00f0-9ab1-7d7bb244cdb2','Robert','Molina','M','AW08795cf9-ac6d-00f0','Robert.Molina1@nus.edu.sg','41621 Michael Port Apt. 852Zacharyberg, AR 81072','67317','191.284.4171x4324',2,CHAR_TO_LABEL('ols_pol','C::CS5228'))\n",
      "INTO student (id, first_name, last_name, gender, matric_no, email, address, postal, tel, school_id, ols_pol_col)     VALUES('f262d8a9-59e5-0c53-d2db-311df56527df','Greg','Russo','F','AWf262d8a9-59e5-0c53','Greg.Russo2@nus.edu.sg','6089 Nelson Knolls Suite 928Blackburnstad, NV 41060','43997','+00(7)2840311772',1,CHAR_TO_LABEL('ols_pol','C::CS5228'))\n",
      "INTO student (id, first_name, last_name, gender, matric_no, email, address, postal, tel, school_id, ols_pol_col)     VALUES('dccf533f-2972-0e80-dd55-8462989c8216','Donna','Castillo','F','AWdccf533f-2972-0e80','Donna.Castillo3@nus.edu.sg','92412 Elizabeth Skyway Suite 806North Kimberlyborough, ME 52003','61586','(988)028-7377x513',2,CHAR_TO_LABEL('ols_pol','C::BT4211'))\n",
      " SELECT * FROM dual;\n",
      "\n",
      "\n"
     ]
    }
   ],
   "source": [
    "stu_group_label = [get_security_label(stu_slevel, [], [course_label[i//3]]) for i in range(student_num)]\n",
    "\n",
    "student_insert_sql = 'INSERT ALL\\n' + '\\n'.join(\n",
    "    ['INTO student (id, first_name, last_name, gender, matric_no, email, address, postal, tel, school_id, {}) \\\n",
    "    VALUES({},{},{},{},{},{},{},{},{},{},{})'.format(\n",
    "    ols,\n",
    "    wrap_single_quote(student_id[i]),\n",
    "    wrap_single_quote(student_name[i].split(' ')[0]),\n",
    "    wrap_single_quote(student_name[i].split(' ')[1]),\n",
    "    wrap_single_quote(random.choice(['F', 'M'])),\n",
    "    wrap_single_quote('AW' + student_id[i][:18]),\n",
    "    wrap_single_quote(student_email[i]),\n",
    "    wrap_single_quote(student_address[i]),\n",
    "    wrap_single_quote(student_postal[i]),\n",
    "    wrap_single_quote(student_tel[i]),\n",
    "    str(stu_sch_id[i]), \n",
    "    stu_group_label[i]) for i in range(student_num)]) + '\\n SELECT * FROM dual;\\n\\n'\n",
    "\n",
    "print(student_insert_sql)"
   ]
  },
  {
   "cell_type": "code",
   "execution_count": 44,
   "metadata": {},
   "outputs": [],
   "source": [
    "grade_num = course_enrollment_num\n",
    "grade_slevel = SL_S\n",
    "grade_ce_id = ce_id[:]\n",
    "grades = [fake.random_number(digits=2) for i in range(grade_num)]\n",
    "grades_sl = [get_security_label(ce_slevel, [AD], [course_label[i//2]]) for i in range(grade_num)]\n",
    "\n",
    "grade_insert_sql = 'INSERT ALL\\n' + '\\n'.join(\n",
    "    ['INTO grade(course_enrollment_id, grade, {})\\\n",
    "    VALUES({},{},{})'.format(\n",
    "    ols,\n",
    "    str(grade_ce_id[i]),\n",
    "    str(grades[i]),\n",
    "    grades_sl[i]) for i in range(course_enrollment_num)]) + '\\n SELECT * FROM dual;\\n\\n'"
   ]
  },
  {
   "cell_type": "code",
   "execution_count": 45,
   "metadata": {},
   "outputs": [
    {
     "name": "stdout",
     "output_type": "stream",
     "text": [
      "INSERT ALL\n",
      "INTO grade(course_enrollment_id, grade, ols_pol_col)    VALUES(1,77,CHAR_TO_LABEL('ols_pol','S:AD:CS5228'))\n",
      "INTO grade(course_enrollment_id, grade, ols_pol_col)    VALUES(2,0,CHAR_TO_LABEL('ols_pol','S:AD:CS5228'))\n",
      "INTO grade(course_enrollment_id, grade, ols_pol_col)    VALUES(3,45,CHAR_TO_LABEL('ols_pol','S:AD:BT4211'))\n",
      "INTO grade(course_enrollment_id, grade, ols_pol_col)    VALUES(4,46,CHAR_TO_LABEL('ols_pol','S:AD:BT4211'))\n",
      " SELECT * FROM dual;\n",
      "\n",
      "\n"
     ]
    }
   ],
   "source": [
    "print(grade_insert_sql)"
   ]
  },
  {
   "cell_type": "code",
   "execution_count": 46,
   "metadata": {},
   "outputs": [
    {
     "name": "stdout",
     "output_type": "stream",
     "text": [
      "INSERT ALL\n",
      "INTO school_fee(id, student_id,semester_id,school_fee,school_fee_paid, ols_pol_col)    VALUES('208843ec-ae50-8d50-389e-8f88ac7232cd',1,50388,49800.47,CHAR_TO_LABEL('ols_pol','S:FN:SOC'))\n",
      "INTO school_fee(id, student_id,semester_id,school_fee,school_fee_paid, ols_pol_col)    VALUES('08795cf9-ac6d-00f0-9ab1-7d7bb244cdb2',2,51328,5417.89,CHAR_TO_LABEL('ols_pol','S:FN:SOC'))\n",
      "INTO school_fee(id, student_id,semester_id,school_fee,school_fee_paid, ols_pol_col)    VALUES('f262d8a9-59e5-0c53-d2db-311df56527df',3,94795,57152.55,CHAR_TO_LABEL('ols_pol','S:FN:BIZ'))\n",
      "INTO school_fee(id, student_id,semester_id,school_fee,school_fee_paid, ols_pol_col)    VALUES('dccf533f-2972-0e80-dd55-8462989c8216',4,92442,79478.66,CHAR_TO_LABEL('ols_pol','S:FN:BIZ'))\n",
      " SELECT * FROM dual;\n",
      "\n",
      "\n"
     ]
    }
   ],
   "source": [
    "school_fee_num = student_num\n",
    "sf_slevel = SL_S\n",
    "school_fee_student_id = [ student_id[i] for i in range(school_fee_num)]\n",
    "school_fee_semster_id = [ i%semster_num+1 for i in range(school_fee_num)]\n",
    "school_fee_school_fee = [ fake.random_number(digits=5) for i in range(school_fee_num)]\n",
    "school_fee_school_fee_paid = [ \"{0:.2f}\".format(random.random()*school_fee_school_fee[i]) for i in range(school_fee_num)]\n",
    "sf_sl = [get_security_label(sf_slevel, [FN], [school_label[i//2]]) for i in range(school_fee_num)]\n",
    "\n",
    "school_fee_insert_sql = 'INSERT ALL\\n' + '\\n'.join(\n",
    "    ['INTO school_fee(student_id, semester_id, school_fee, school_fee_paid, {})\\\n",
    "    VALUES({},{},{},{},{})'.format(\n",
    "    ols,\n",
    "    wrap_single_quote(school_fee_student_id[i]),\n",
    "    str(school_fee_semster_id[i]),\n",
    "    str(school_fee_school_fee[i]),\n",
    "    str(school_fee_school_fee_paid[i]),\n",
    "    sf_sl[i]) for i in range(school_fee_num)]) + '\\n SELECT * FROM dual;\\n\\n'\n",
    "\n",
    "print(school_fee_insert_sql)"
   ]
  },
  {
   "cell_type": "code",
   "execution_count": 47,
   "metadata": {},
   "outputs": [
    {
     "name": "stdout",
     "output_type": "stream",
     "text": [
      "INSERT ALL\n",
      "INTO staff_salary(staff_id, salary, ols_pol_col)    VALUES('cbb24338-3103-8fc2-a704-5c27bf1ea0c3',65246,CHAR_TO_LABEL('ols_pol','HS:FN:'))\n",
      "INTO staff_salary(staff_id, salary, ols_pol_col)    VALUES('bbc2c618-b619-bb2e-591f-d18d7e4322dd',22906,CHAR_TO_LABEL('ols_pol','HS:FN:'))\n",
      "INTO staff_salary(staff_id, salary, ols_pol_col)    VALUES('a9fe72ea-1c93-745d-48c2-0b07f20abbb8',93302,CHAR_TO_LABEL('ols_pol','HS:FN:'))\n",
      "INTO staff_salary(staff_id, salary, ols_pol_col)    VALUES('73291bd2-6414-56a6-5f00-5deae7abeb9b',68554,CHAR_TO_LABEL('ols_pol','HS:FN:'))\n",
      "INTO staff_salary(staff_id, salary, ols_pol_col)    VALUES('b81c94e9-00c7-190c-3082-3e0d8ee4ebd0',64828,CHAR_TO_LABEL('ols_pol','HS:FN:'))\n",
      "INTO staff_salary(staff_id, salary, ols_pol_col)    VALUES('6134c9c0-1c6a-a2b3-4f43-b28246328b59',35448,CHAR_TO_LABEL('ols_pol','HS:FN:'))\n",
      "INTO staff_salary(staff_id, salary, ols_pol_col)    VALUES('20496c78-4e1f-dd97-8e73-eec260f4a0e2',7959,CHAR_TO_LABEL('ols_pol','HS:FN:'))\n",
      "INTO staff_salary(staff_id, salary, ols_pol_col)    VALUES('b072ef99-70f4-c15a-2f38-8ee41a008763',22593,CHAR_TO_LABEL('ols_pol','HS:FN:'))\n",
      " SELECT * FROM dual;\n",
      "\n",
      "\n"
     ]
    }
   ],
   "source": [
    "staff_num = professor_num + admin_officer_num\n",
    "staff_slevel = SL_HS\n",
    "staff_id = professor_id + admin_officer_id\n",
    "salary = [fake.random_number(digits=5) for i in range(staff_num)]\n",
    "staff_sl = [get_security_label(staff_slevel,[FN], []) for i in range(staff_num)]\n",
    "staff_insert_sql = 'INSERT ALL\\n' + '\\n'.join(\n",
    "    ['INTO staff_salary(staff_id, salary, {})\\\n",
    "    VALUES({},{},{})'.format(\n",
    "    ols,\n",
    "    wrap_single_quote(staff_id[i]),\n",
    "    str(salary[i]),\n",
    "    staff_sl[i]) for i in range(staff_num)]) + '\\n SELECT * FROM dual;\\n\\n'\n",
    "print(staff_insert_sql)"
   ]
  },
  {
   "cell_type": "code",
   "execution_count": 48,
   "metadata": {},
   "outputs": [],
   "source": [
    "with open('insert_data.sql', 'w') as f:\n",
    "    f.write(school_insert_sql)"
   ]
  },
  {
   "cell_type": "code",
   "execution_count": 49,
   "metadata": {},
   "outputs": [],
   "source": [
    "with open('insert_data.sql', 'a') as f:\n",
    "    f.write(academic_insert_sql)"
   ]
  },
  {
   "cell_type": "code",
   "execution_count": 50,
   "metadata": {},
   "outputs": [],
   "source": [
    "with open('insert_data.sql', 'a') as f:\n",
    "    f.write(semster_insert_sql)"
   ]
  },
  {
   "cell_type": "code",
   "execution_count": 51,
   "metadata": {},
   "outputs": [],
   "source": [
    "with open('insert_data.sql', 'a') as f:\n",
    "    f.write(admin_officer_insert_sql)"
   ]
  },
  {
   "cell_type": "code",
   "execution_count": 52,
   "metadata": {},
   "outputs": [],
   "source": [
    "with open('insert_data.sql', 'a') as f:\n",
    "    f.write(professor_insert_sql)"
   ]
  },
  {
   "cell_type": "code",
   "execution_count": 53,
   "metadata": {},
   "outputs": [],
   "source": [
    "with open('insert_data.sql', 'a') as f:\n",
    "    f.write(course_insert_sql)"
   ]
  },
  {
   "cell_type": "code",
   "execution_count": 54,
   "metadata": {},
   "outputs": [],
   "source": [
    "with open('insert_data.sql', 'a') as f:\n",
    "    f.write(course_schedule_insert_sql)"
   ]
  },
  {
   "cell_type": "code",
   "execution_count": 55,
   "metadata": {},
   "outputs": [],
   "source": [
    "with open('insert_data.sql', 'a') as f:\n",
    "    f.write(student_insert_sql)"
   ]
  },
  {
   "cell_type": "code",
   "execution_count": 56,
   "metadata": {},
   "outputs": [],
   "source": [
    "with open('insert_data.sql', 'a') as f:\n",
    "    f.write(course_enrollment_insert_sql)"
   ]
  },
  {
   "cell_type": "code",
   "execution_count": 57,
   "metadata": {},
   "outputs": [],
   "source": [
    "with open('insert_data.sql', 'a') as f:\n",
    "    f.write(school_fee_insert_sql)"
   ]
  },
  {
   "cell_type": "code",
   "execution_count": 58,
   "metadata": {},
   "outputs": [],
   "source": [
    "with open('insert_data.sql', 'a') as f:\n",
    "    f.write(loan_insert_sql)"
   ]
  },
  {
   "cell_type": "code",
   "execution_count": 59,
   "metadata": {},
   "outputs": [],
   "source": [
    "with open('insert_data.sql', 'a') as f:\n",
    "    f.write(grade_insert_sql)"
   ]
  },
  {
   "cell_type": "code",
   "execution_count": 60,
   "metadata": {},
   "outputs": [],
   "source": [
    "with open('insert_data.sql', 'a') as f:\n",
    "    f.write(staff_insert_sql)"
   ]
  },
  {
   "cell_type": "code",
   "execution_count": null,
   "metadata": {},
   "outputs": [],
   "source": []
  }
 ],
 "metadata": {
  "kernelspec": {
   "display_name": "Python 3",
   "language": "python",
   "name": "python3"
  },
  "language_info": {
   "codemirror_mode": {
    "name": "ipython",
    "version": 3
   },
   "file_extension": ".py",
   "mimetype": "text/x-python",
   "name": "python",
   "nbconvert_exporter": "python",
   "pygments_lexer": "ipython3",
   "version": "3.7.0"
  }
 },
 "nbformat": 4,
 "nbformat_minor": 2
}
