{
 "cells": [
  {
   "cell_type": "code",
   "execution_count": 72,
   "metadata": {},
   "outputs": [],
   "source": [
    "from faker import Faker\n",
    "import re\n",
    "import random\n",
    "\n",
    "fake = Faker()\n",
    "\n",
    "def take_initial(s):\n",
    "    initials = [i[0] for i in s.split()]\n",
    "    while len(initials) < 2:\n",
    "        initials.append(fake.random_uppercase_letter())\n",
    "    return ''.join(initials).upper()\n",
    "\n",
    "def wrap_single_quote(s):\n",
    "    return \"'\" + s + \"'\""
   ]
  },
  {
   "cell_type": "code",
   "execution_count": 73,
   "metadata": {},
   "outputs": [],
   "source": [
    "school_num = 10\n",
    "school_name = ['School of ' + fake.job().split()[0] + ''.join(fake.random_letters(length=3)) for i in range(school_num)]\n",
    "school_email = [ take_initial(school_name[i]) + str(i) + '@nus.edu.sg' for i in range(school_num)]\n",
    "school_address = [school_name[i] + ', ' + fake.address().replace('\\n', '') for i in range(school_num)]\n",
    "school_postal = [fake.postalcode() for i in range(school_num)]\n",
    "school_tel = [fake.phone_number() for i in range(school_num)]\n",
    "\n",
    "school_insert_sql = 'INSERT ALL\\n'+ '\\n'.join([ 'INTO school (id, name, email, address, postal, tel) VALUES ({},{},{},{},{},{})'.format(\n",
    "    i+1,\n",
    "    wrap_single_quote(school_name[i]),\n",
    "    wrap_single_quote(school_email[i]),\n",
    "    wrap_single_quote(school_address[i]),\n",
    "    wrap_single_quote(school_postal[i]),\n",
    "    wrap_single_quote(school_tel[i])) for i in range(school_num)]) + '\\n SELECT * FROM dual;\\n\\n'"
   ]
  },
  {
   "cell_type": "code",
   "execution_count": 74,
   "metadata": {},
   "outputs": [],
   "source": [
    "with open('insert_data.sql', 'w') as f:\n",
    "    f.write(school_insert_sql)"
   ]
  },
  {
   "cell_type": "code",
   "execution_count": 75,
   "metadata": {},
   "outputs": [],
   "source": [
    "academic_num = 10\n",
    "academic_start_year = [str(2017-academic_num//2+i) for i in range(academic_num)]\n",
    "academic_end_year = [str(2018-academic_num//2+i) for i in range(academic_num)]\n",
    "\n",
    "academic_insert_sql = 'INSERT ALL\\n' + '\\n'.join(['INTO academic_year (id, start_year, end_year) VALUES ({},{},{})'.format(\n",
    "    i+1,\n",
    "    wrap_single_quote(academic_start_year[i]),\n",
    "    wrap_single_quote(academic_end_year[i])) for i in range(academic_num)]) + '\\n SELECT * FROM dual;\\n\\n'\n",
    "\n",
    "with open('insert_data.sql', 'a') as f:\n",
    "    f.write(academic_insert_sql)"
   ]
  },
  {
   "cell_type": "code",
   "execution_count": 76,
   "metadata": {},
   "outputs": [],
   "source": [
    "semster_num = academic_num * 2\n",
    "semster_start_end_dates = [('-08-01 00:00:00 +08:00','-12-31 00:00:00 +08:00'), ('-01-01 00:00:00 +08:00','-05-31 00:00:00 +08:00')]\n",
    "semster = [i%2+1 for i in range(semster_num)]\n",
    "semster_start_time = [str(2017-semster_num//4+(i+1)//2)+semster_start_end_dates[i%2][0] for i in range(semster_num)]\n",
    "semster_end_time = [str(2017-semster_num//4+(i+1)//2)+semster_start_end_dates[i%2][1] for i in range(semster_num)]\n",
    "\n",
    "semster_insert_sql = 'INSERT ALL\\n' + '\\n'.join(['INTO semester (id, semester, start_date, end_date, academic_year_id) VALUES({},{}, TIMESTAMP {},TIMESTAMP {},{})'.format(\n",
    "    i+1,\n",
    "    str(semster[i]),\n",
    "    wrap_single_quote(semster_start_time[i]),\n",
    "    wrap_single_quote(semster_end_time[i]),\n",
    "    str(i//2+1)) for i in range(semster_num)]) + '\\n SELECT * FROM dual;\\n\\n'\n",
    "\n",
    "\n",
    "with open('insert_data.sql', 'a') as f:\n",
    "    f.write(semster_insert_sql)"
   ]
  },
  {
   "cell_type": "code",
   "execution_count": 77,
   "metadata": {},
   "outputs": [],
   "source": [
    "specialization_num = 2 * school_num\n",
    "specialization_name = [re.sub(r'\\W+', ' ', fake.job()) for i in range(specialization_num)]\n",
    "specialization_index = [take_initial(name)[:2] for name in specialization_name]\n",
    "specialization_school_id = [i%school_num+1 for i in range(specialization_num)]\n",
    "\n",
    "specialization_insert_sql = 'INSERT ALL\\n' + '\\n'.join(['INTO specialization (id, name, idx, school_id) VALUES({},{},{},{})'.format(\n",
    "    i+1,\n",
    "    wrap_single_quote(specialization_name[i][:50]),\n",
    "    wrap_single_quote(specialization_index[i]),\n",
    "    str(specialization_school_id[i])) for i in range(specialization_num)]) + '\\n SELECT * FROM dual;\\n\\n'\n",
    "\n",
    "\n",
    "with open('insert_data.sql', 'a') as f:\n",
    "    f.write(specialization_insert_sql)"
   ]
  },
  {
   "cell_type": "code",
   "execution_count": 78,
   "metadata": {},
   "outputs": [],
   "source": [
    "admin_officer_num = 2 * school_num\n",
    "\n",
    "admin_officer_id = [ fake.uuid4() for i in range(admin_officer_num)]\n",
    "admin_officer_name = [ fake.name() for i in range(admin_officer_num)]\n",
    "admin_officer_office_email = [ admin_officer_name[i].replace(\" \", \".\") + str(i) + '@nus.edu.sg' for i in range(admin_officer_num)]\n",
    "admin_officer_office_address = [ fake.address().replace('\\n', '') for i in range(admin_officer_num)]\n",
    "admin_officer_office_postal = [ fake.postalcode() for i in range(admin_officer_num)]\n",
    "admin_officer_office_tel = [ fake.phone_number() for i in range(admin_officer_num)]\n",
    "admin_officer_school_id = [ i%school_num+1 for i in range(admin_officer_num)]\n",
    "\n",
    "admin_officer_insert_sql = 'INSERT ALL\\n' + '\\n'.join(['INTO admin_officer (id, first_name, last_name, gender, email, office_address, office_postal, office_tel, school_id) VALUES({},{},{},{},{},{},{},{},{})'.format(\n",
    "    wrap_single_quote(admin_officer_id[i]),\n",
    "    wrap_single_quote(admin_officer_name[i].split(' ')[0]),\n",
    "    wrap_single_quote(admin_officer_name[i].split(' ')[1]),\n",
    "    wrap_single_quote(random.choice(['F', 'M'])),\n",
    "    wrap_single_quote(admin_officer_office_email[i]),\n",
    "    wrap_single_quote(admin_officer_office_address[i]),\n",
    "    wrap_single_quote(admin_officer_office_postal[i]),\n",
    "    wrap_single_quote(admin_officer_office_tel[i]),\n",
    "    str(admin_officer_school_id[i])) for i in range(admin_officer_num)]) + '\\n SELECT * FROM dual;\\n\\n'\n",
    "\n",
    "\n",
    "with open('insert_data.sql', 'a') as f:\n",
    "    f.write(admin_officer_insert_sql)"
   ]
  },
  {
   "cell_type": "code",
   "execution_count": 79,
   "metadata": {},
   "outputs": [],
   "source": [
    "professor_num = 2 * school_num\n",
    "professor_id = [ fake.uuid4() for i in range(professor_num)]\n",
    "professor_name = [ fake.name() for i in range(professor_num)]\n",
    "professor_office_email = [ professor_name[i].replace(\" \", \".\") + str(i) + '@nus.edu.sg' for i in range(professor_num)]\n",
    "professor_office_address = [ fake.address().replace('\\n', '') for i in range(professor_num)]\n",
    "professor_office_postal = [ fake.postalcode() for i in range(professor_num)]\n",
    "professor_office_tel = [ fake.phone_number() for i in range(professor_num)]\n",
    "professor_school_id = [ i%school_num+1 for i in range(professor_num)]\n",
    "\n",
    "professor_insert_sql = 'INSERT ALL\\n' + '\\n'.join(['INTO professor (id, first_name, last_name, gender, email, office_address, office_postal, office_tel, school_id) VALUES({},{},{},{},{},{},{},{},{})'.format(\n",
    "    wrap_single_quote(professor_id[i]),\n",
    "    wrap_single_quote(professor_name[i].split(' ')[0]),\n",
    "    wrap_single_quote(professor_name[i].split(' ')[1]),\n",
    "    wrap_single_quote(random.choice(['F', 'M'])),\n",
    "    wrap_single_quote(professor_office_email[i]),\n",
    "    wrap_single_quote(professor_office_address[i]),\n",
    "    wrap_single_quote(professor_office_postal[i]),\n",
    "    wrap_single_quote(professor_office_tel[i]),\n",
    "    str(professor_school_id[i])) for i in range(professor_num)]) + '\\n SELECT * FROM dual;\\n\\n'\n",
    "\n",
    "with open('insert_data.sql', 'a') as f:\n",
    "    f.write(professor_insert_sql)"
   ]
  },
  {
   "cell_type": "code",
   "execution_count": 80,
   "metadata": {},
   "outputs": [],
   "source": [
    "student_num = 2 * specialization_num\n",
    "student_id = [ fake.uuid4() for i in range(student_num)]\n",
    "student_name = [ fake.name() for i in range(student_num)]\n",
    "student_email = [ student_name[i].replace(\" \", \".\") + str(i) + '@nus.edu.sg' for i in range(student_num)]\n",
    "student_address = [ fake.address().replace('\\n', '') for i in range(student_num)]\n",
    "student_postal = [ fake.postalcode() for i in range(student_num)]\n",
    "student_tel = [ fake.phone_number() for i in range(student_num)]\n",
    "student_specialization_id = [ i%specialization_num+1 for i in range(student_num)]\n",
    "\n",
    "student_insert_sql = 'INSERT ALL\\n' + '\\n'.join(['INTO student (id, first_name, last_name, gender, matric_no, email, address, postal, tel, specialization_id) VALUES({},{},{},{},{},{},{},{},{},{})'.format(\n",
    "    wrap_single_quote(student_id[i]),\n",
    "    wrap_single_quote(student_name[i].split(' ')[0]),\n",
    "    wrap_single_quote(student_name[i].split(' ')[1]),\n",
    "    wrap_single_quote(random.choice(['F', 'M'])),\n",
    "    wrap_single_quote('AW' + student_id[i][:18]),\n",
    "    wrap_single_quote(student_email[i]),\n",
    "    wrap_single_quote(student_address[i]),\n",
    "    wrap_single_quote(student_postal[i]),\n",
    "    wrap_single_quote(student_tel[i]),\n",
    "    str(student_specialization_id[i])) for i in range(student_num)]) + '\\n SELECT * FROM dual;\\n\\n'\n",
    "\n",
    "with open('insert_data.sql', 'a') as f:\n",
    "    f.write(student_insert_sql)"
   ]
  },
  {
   "cell_type": "code",
   "execution_count": 81,
   "metadata": {},
   "outputs": [],
   "source": [
    "loan_num = student_num//5\n",
    "\n",
    "loan_amount = [ random.randint(10000,50000) for i in range(loan_num)]\n",
    "loan_start_date = [ fake.past_date().replace().strftime(\"%Y-%m-%d %H:%M:%S\") + ' +08:00' for i in range(loan_num)]\n",
    "loan_due_date = [ fake.future_date(end_date='+365d').strftime(\"%Y-%m-%d %H:%M:%S\") + ' +08:00' for i in range(loan_num)]\n",
    "loan_amount_paid = [ \"{0:.2f}\".format(random.random() * loan_amount[i]) for i in range(loan_num)]\n",
    "loan_student_id = [ student_id[i*5] for i in range(loan_num)]\n",
    "\n",
    "loan_insert_sql = 'INSERT ALL\\n' + '\\n'.join(['INTO loan (id, amount, start_date, due_date, paid_amount, student_id) VALUES({},{},TIMESTAMP {},TIMESTAMP {},{},{})'.format(\n",
    "    i+1,\n",
    "    str(loan_amount[i]),\n",
    "    wrap_single_quote(loan_start_date[i]),\n",
    "    wrap_single_quote(loan_due_date[i]),\n",
    "    str(loan_amount_paid[i]),\n",
    "    wrap_single_quote(loan_student_id[i])) for i in range(loan_num)]) + '\\n SELECT * FROM dual;\\n\\n'\n",
    "\n",
    "with open('insert_data.sql', 'a') as f:\n",
    "    f.write(loan_insert_sql)"
   ]
  },
  {
   "cell_type": "code",
   "execution_count": 82,
   "metadata": {},
   "outputs": [],
   "source": [
    "course_num = 2 * specialization_num\n",
    "course_index = [ fake.random_number(digits=4) for i in range(course_num)]\n",
    "course_name = [ fake.job()[:50] for i in range(course_num)]\n",
    "course_description = [ fake.sentence() for i in range(course_num)]\n",
    "course_specialization_id = [ i%specialization_num+1 for i in range(course_num)]\n",
    "\n",
    "course_insert_sql = 'INSERT ALL\\n' + '\\n'.join(['INTO course (id, idx, name, description, specialization_id) VALUES({},{},{},{},{})'.format(\n",
    "    i+1,\n",
    "    str(course_index[i]),\n",
    "    wrap_single_quote(course_name[i]),\n",
    "    wrap_single_quote(course_description[i]),\n",
    "    str(course_specialization_id[i])) for i in range(course_num)]) + '\\n SELECT * FROM dual;\\n\\n'\n",
    "\n",
    "with open('insert_data.sql', 'a') as f:\n",
    "    f.write(course_insert_sql)"
   ]
  },
  {
   "cell_type": "code",
   "execution_count": 83,
   "metadata": {},
   "outputs": [],
   "source": [
    "course_schedule_course_id = [ i%course_num+1 for i in range(course_schedule_num)] \n",
    "course_schedule_semster_id = [ i%semster_num+1 for i in range(course_schedule_num)]\n",
    "course_schedule_professor_id = [ professor_id[i%professor_num] for i in range(course_schedule_num)]\n",
    "\n",
    "course_schedule_insert_sql = 'INSERT ALL\\n' + '\\n'.join(['INTO course_schedule (id, course_id, semester_id, professor_id) VALUES({},{},{},{})'.format(\n",
    "    i+1,\n",
    "    str(course_schedule_course_id[i]),\n",
    "    str(course_schedule_semster_id[i]),\n",
    "    wrap_single_quote(course_schedule_professor_id[i])) for i in range(course_schedule_num)]) + '\\n SELECT * FROM dual;\\n\\n'\n",
    "\n",
    "with open('insert_data.sql', 'a') as f:\n",
    "    f.write(course_schedule_insert_sql)"
   ]
  },
  {
   "cell_type": "code",
   "execution_count": 84,
   "metadata": {},
   "outputs": [],
   "source": [
    "school_fee_num = student_num * 2\n",
    "school_fee_student_id = [ student_id[i//2] for i in range(school_fee_num)]\n",
    "school_fee_semster_id = [ i%semster_num+1 for i in range(school_fee_num)]\n",
    "school_fee_school_fee = [ fake.random_number(digits=5) for i in range(school_fee_num)]\n",
    "school_fee_school_fee_paid = [ \"{0:.2f}\".format(random.random()*school_fee_school_fee[i]) for i in range(school_fee_num)]\n",
    "\n",
    "school_fee_insert_sql = 'INSERT ALL\\n' + '\\n'.join(['INTO school_fee(student_id,semester_id,school_fee,school_fee_paid) VALUES({},{},{},{})'.format(\n",
    "    wrap_single_quote(school_fee_student_id[i]),\n",
    "    str(school_fee_semster_id[i]),\n",
    "    str(school_fee_school_fee[i]),\n",
    "    str(school_fee_school_fee_paid[i])) for i in range(school_fee_num)]) + '\\n SELECT * FROM dual;\\n\\n'\n",
    "\n",
    "with open('insert_data.sql', 'a') as f:\n",
    "    f.write(school_fee_insert_sql)"
   ]
  },
  {
   "cell_type": "code",
   "execution_count": 85,
   "metadata": {},
   "outputs": [],
   "source": [
    "course_enrollment_num = student_num * 2\n",
    "\n",
    "course_enrollment_student_id = [ student_id[i//2] for i in range(course_enrollment_num)]\n",
    "course_enrollment_course_schedule_id = [ i%course_schedule_num+1 for i in range(course_enrollment_num)]\n",
    "course_enrollment_grade = [ random.randint(1,100) for i in range(course_enrollment_num)]\n",
    "\n",
    "course_enrollment_insert_sql = 'INSERT ALL\\n' + '\\n'.join(['INTO course_enrollment(student_id,course_schedule_id,grade) VALUES({},{},{})'.format(\n",
    "    wrap_single_quote(school_fee_student_id[i]),\n",
    "    str(course_enrollment_course_schedule_id[i]),\n",
    "    str(course_enrollment_grade[i])) for i in range(school_fee_num)]) + '\\n SELECT * FROM dual;\\n\\n'\n",
    "\n",
    "with open('insert_data.sql', 'a') as f:\n",
    "    f.write(course_enrollment_insert_sql)"
   ]
  },
  {
   "cell_type": "code",
   "execution_count": null,
   "metadata": {},
   "outputs": [],
   "source": []
  }
 ],
 "metadata": {
  "kernelspec": {
   "display_name": "Python 3",
   "language": "python",
   "name": "python3"
  },
  "language_info": {
   "codemirror_mode": {
    "name": "ipython",
    "version": 3
   },
   "file_extension": ".py",
   "mimetype": "text/x-python",
   "name": "python",
   "nbconvert_exporter": "python",
   "pygments_lexer": "ipython3",
   "version": "3.7.0"
  }
 },
 "nbformat": 4,
 "nbformat_minor": 2
}
